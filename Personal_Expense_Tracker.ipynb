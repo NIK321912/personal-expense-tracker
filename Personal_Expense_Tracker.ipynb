{
 "cells": [
  {
   "cell_type": "markdown",
   "id": "3830d0e5-5667-4dcd-9abf-19cae4cab83b",
   "metadata": {},
   "source": [
    "# Personal Expense Tracker"
   ]
  },
  {
   "cell_type": "markdown",
   "id": "3a980d0a-2ead-4a85-8e3f-ca6558b2137e",
   "metadata": {},
   "source": [
    "## Shreynik Deepak Jain"
   ]
  },
  {
   "cell_type": "markdown",
   "id": "3f19e393-208a-4958-8c58-2bc8da83f7d6",
   "metadata": {},
   "source": [
    "### Importing libraries and setting global variables"
   ]
  },
  {
   "cell_type": "code",
   "execution_count": 4,
   "id": "a1fa6830-ce18-4bff-9d3e-8cc7d016e14a",
   "metadata": {},
   "outputs": [],
   "source": [
    "import numpy as np\n",
    "import pandas as pd\n",
    "import datetime as dt"
   ]
  },
  {
   "cell_type": "code",
   "execution_count": 5,
   "id": "173b1085-c780-4d67-b239-27f41b4f2723",
   "metadata": {},
   "outputs": [],
   "source": [
    "expense_table = pd.DataFrame()"
   ]
  },
  {
   "cell_type": "code",
   "execution_count": 6,
   "id": "11c603b6-5633-4ec9-a635-a0776c225cb0",
   "metadata": {},
   "outputs": [],
   "source": [
    "monthly_budget = None"
   ]
  },
  {
   "cell_type": "code",
   "execution_count": 7,
   "id": "83f784a1-4528-4c10-96a5-9b46b91ebfa2",
   "metadata": {},
   "outputs": [],
   "source": [
    "column_headers = ['Date', 'Category', 'Amount', 'Description']"
   ]
  },
  {
   "cell_type": "markdown",
   "id": "8c4fca8a-799b-4aef-9774-07611ee0752f",
   "metadata": {},
   "source": [
    "### Adding an expense from user"
   ]
  },
  {
   "cell_type": "code",
   "execution_count": 8,
   "id": "95773b7a-709f-464c-8ba5-64418825edfb",
   "metadata": {},
   "outputs": [],
   "source": [
    "def validate_expense(expense):\n",
    "    for column_header in column_headers:\n",
    "        if expense[column_header] == \"\" or expense[column_header] is None:\n",
    "            return False\n",
    "    return True"
   ]
  },
  {
   "cell_type": "code",
   "execution_count": 9,
   "id": "a24b2d13-9ccf-4239-b6ef-84fc967058c1",
   "metadata": {},
   "outputs": [],
   "source": [
    "def input_expense_from_console():\n",
    "    global expense_table\n",
    "    while(True):   \n",
    "        date = input(\"Enter the date in YYYY-MM-DD format\").strip()\n",
    "        category = input(\"Enter the category: \").strip()\n",
    "        amount_str = input(\"Enter the expense amount: \").strip()\n",
    "        while(True): \n",
    "            try:\n",
    "                amount = int(amount_str)\n",
    "                break\n",
    "            except ValueError:\n",
    "                print(\"Please enter a valid number for the amount.\")\n",
    "                amount_str = input(\"Enter the expense amount: \").strip()\n",
    "        description = input(\"Enter a one-line description of the expense: \").strip()\n",
    "        expense = {'Date':date, 'Category': category, 'Amount': amount, 'Description': description}\n",
    "        if not validate_expense(expense):\n",
    "            print(\"Invalid expense, please fill all the details\")\n",
    "        else:\n",
    "            expense_table = pd.concat([expense_table, pd.DataFrame([expense])], ignore_index=True)\n",
    "            break"
   ]
  },
  {
   "cell_type": "markdown",
   "id": "6089da23-639f-4c2a-a955-e1b9dd1470f5",
   "metadata": {},
   "source": [
    "### Display User Expenses"
   ]
  },
  {
   "cell_type": "code",
   "execution_count": 10,
   "id": "265c6b04-57ac-4bd4-b172-7fe069331f28",
   "metadata": {},
   "outputs": [],
   "source": [
    "def display_expenses():\n",
    "    print(\"These are your expenses: \")\n",
    "    for expense in expense_table.to_dict('records'):\n",
    "        print(expense)"
   ]
  },
  {
   "cell_type": "markdown",
   "id": "2c651dc5-e7a6-40b4-9495-2321e54f2f47",
   "metadata": {},
   "source": [
    "### Budget Tracking"
   ]
  },
  {
   "cell_type": "code",
   "execution_count": 11,
   "id": "2caf5b2b-7af0-40b0-b1cd-75496900bcf3",
   "metadata": {},
   "outputs": [],
   "source": [
    "def input_budget_from_console():\n",
    "    global monthly_budget\n",
    "    monthly_budget_str = input(\"Enter your monthly budget: \").strip()\n",
    "    while(True): \n",
    "        try:\n",
    "            monthly_budget = int(monthly_budget_str)\n",
    "            break\n",
    "        except ValueError:\n",
    "            print(\"Please enter a valid number for the budget.\")\n",
    "            monthly_budget_str = input(\"Enter your monthly budget: \").strip()"
   ]
  },
  {
   "cell_type": "code",
   "execution_count": 12,
   "id": "c316ca40-52e9-4a0e-99d3-658e3e4c0c17",
   "metadata": {},
   "outputs": [],
   "source": [
    "def budget_analysis():\n",
    "    total_expenses = 0\n",
    "    for expense in expense_table.to_dict('records'):\n",
    "        total_expenses += expense['Amount']\n",
    "    remaining_budget = monthly_budget - total_expenses\n",
    "    if remaining_budget < 0:\n",
    "        print(\"WARNING! You hav exceeded your monthly budget by: Rs. \" + str(abs(remaining_budget)))\n",
    "    else:\n",
    "        print(\"Your remaining budget for the month: Rs. \" + str(remaining_budget))"
   ]
  },
  {
   "cell_type": "markdown",
   "id": "c9cd2452-06d1-4fa6-a84d-dfbe9488db43",
   "metadata": {},
   "source": [
    "### Exporting expenses to CSV"
   ]
  },
  {
   "cell_type": "code",
   "execution_count": 13,
   "id": "ed137b85-3563-4cf8-a13c-f45fbaea4009",
   "metadata": {},
   "outputs": [],
   "source": [
    "def save_expenses_to_excel():\n",
    "    print(\"Saving your monthly expenses to CSV file.\")\n",
    "    expense_table.to_excel('Expenses_recorded.xlsx', index=False)\n",
    "    print(\"Please find your expenses in Expenses_recorded.xlsx\")"
   ]
  },
  {
   "cell_type": "markdown",
   "id": "eacb8909-7716-4abe-af05-66cbe180a9e2",
   "metadata": {},
   "source": [
    "### Save expenses from CSV"
   ]
  },
  {
   "cell_type": "code",
   "execution_count": 14,
   "id": "a633ff85-98d9-422b-8821-592d87d6de4f",
   "metadata": {},
   "outputs": [],
   "source": [
    "def process_excel_data(expenses_from_excel):\n",
    "    global expense_table\n",
    "    expenses_from_excel['Date'] = expenses_from_excel['Date'].fillna('')\n",
    "    expenses_from_excel['Category'] = expenses_from_excel['Category'].fillna('')\n",
    "    expenses_from_excel['Description'] = expenses_from_excel['Description'].fillna('')\n",
    "\n",
    "    expenses_from_excel['Date'] = expenses_from_excel['Date'].dt.strftime('%Y-%m-%d')\n",
    "    \n",
    "    for expense in expenses_from_excel.to_dict('records'):\n",
    "        if not validate_expense(expense):\n",
    "            print('Ignoring this record for incomplete details')\n",
    "            print(expense)\n",
    "            continue\n",
    "        try:\n",
    "            expense['Amount'] = int(expense['Amount'])\n",
    "        except ValueError:\n",
    "            print('Ignoring this record for invalid expense amount')\n",
    "            print(expense)\n",
    "            continue\n",
    "        expense_table = pd.concat([expense_table, pd.DataFrame([expense])], ignore_index=True)"
   ]
  },
  {
   "cell_type": "code",
   "execution_count": 15,
   "id": "bec60382",
   "metadata": {},
   "outputs": [],
   "source": [
    "def read_expenses_from_excel_file(filepath):\n",
    "    expenses_from_excel = pd.read_excel(filepath, parse_dates=['Date'])\n",
    "    process_excel_data(expenses_from_excel)\n",
    "    print(\"Added your excel expenses data, here is your entire list of expenses: \")\n",
    "    display_expenses()"
   ]
  },
  {
   "cell_type": "markdown",
   "id": "f9def1e9-0b6a-443e-b23f-d8d77c6cab31",
   "metadata": {},
   "source": [
    "### Interactive User Interface"
   ]
  },
  {
   "cell_type": "code",
   "execution_count": 16,
   "id": "5a57624f-a10e-413d-9582-58c3b4c75928",
   "metadata": {},
   "outputs": [],
   "source": [
    "def personal_expense_tracker_app():\n",
    "    print(\"Welcome to your Personal Expense Tracker Application\")\n",
    "    while(True):\n",
    "        print(\"Please choose any one of the below options to proceed: \")\n",
    "        choice = None\n",
    "        choice_str = input(\"1. Add Expense \\n2. View Expenses \\n3. Track Budget \\n4. Save Expenses \\n5. Load Expenses \\n6. Exit\").strip()\n",
    "        while(True): \n",
    "            try:\n",
    "                choice = int(choice_str)\n",
    "                break\n",
    "            except ValueError:\n",
    "                print(\"Please enter a valid option.\")\n",
    "                choice_str = input(\"1. Add Expense \\n2. View Expenses \\n3. Track Budget \\n4. Save Expenses \\n5. Load Expenses \\n6. Exit\").strip()\n",
    "        match choice:\n",
    "            case 1: \n",
    "                input_expense_from_console()\n",
    "            case 2: \n",
    "                display_expenses()\n",
    "            case 3:\n",
    "                if monthly_budget is None:\n",
    "                    input_budget_from_console()\n",
    "                budget_analysis()\n",
    "            case 4:\n",
    "                save_expenses_to_excel()\n",
    "            case 5:\n",
    "                filepath = input(\"Please enter a file name to save your expense data from an excel file: \").strip()\n",
    "                read_expenses_from_excel_file(filepath)\n",
    "            case 6:\n",
    "                print(\"Thank you! Come back Soon!\")\n",
    "                break\n",
    "                \n",
    "        "
   ]
  },
  {
   "cell_type": "code",
   "execution_count": 17,
   "id": "2b356c0e-95a1-4db7-ad9a-3453c6d4a1a6",
   "metadata": {},
   "outputs": [
    {
     "name": "stdout",
     "output_type": "stream",
     "text": [
      "Welcome to your Personal Expense Tracker Application\n",
      "Please choose any one of the below options to proceed: \n"
     ]
    },
    {
     "name": "stdin",
     "output_type": "stream",
     "text": [
      "1. Add Expense \n",
      "2. View Expenses \n",
      "3. Track Budget \n",
      "4. Save Expenses \n",
      "5. Load Expenses \n",
      "6. Exit 1\n",
      "Enter the date in YYYY-MM-DD format 2025-01-01\n",
      "Enter the category:  Food\n",
      "Enter the expense amount:  1000\n",
      "Enter a one-line description of the expense:  Family Dinner\n"
     ]
    },
    {
     "name": "stdout",
     "output_type": "stream",
     "text": [
      "Please choose any one of the below options to proceed: \n"
     ]
    },
    {
     "name": "stdin",
     "output_type": "stream",
     "text": [
      "1. Add Expense \n",
      "2. View Expenses \n",
      "3. Track Budget \n",
      "4. Save Expenses \n",
      "5. Load Expenses \n",
      "6. Exit 1\n",
      "Enter the date in YYYY-MM-DD format 2025-01-02\n",
      "Enter the category:  Bills\n",
      "Enter the expense amount:  10000\n",
      "Enter a one-line description of the expense:  Rent\n"
     ]
    },
    {
     "name": "stdout",
     "output_type": "stream",
     "text": [
      "Please choose any one of the below options to proceed: \n"
     ]
    },
    {
     "name": "stdin",
     "output_type": "stream",
     "text": [
      "1. Add Expense \n",
      "2. View Expenses \n",
      "3. Track Budget \n",
      "4. Save Expenses \n",
      "5. Load Expenses \n",
      "6. Exit 1\n",
      "Enter the date in YYYY-MM-DD format 2025-01-03\n",
      "Enter the category:  Food\n",
      "Enter the expense amount:  500\n",
      "Enter a one-line description of the expense:  Blinkit\n"
     ]
    },
    {
     "name": "stdout",
     "output_type": "stream",
     "text": [
      "Please choose any one of the below options to proceed: \n"
     ]
    },
    {
     "name": "stdin",
     "output_type": "stream",
     "text": [
      "1. Add Expense \n",
      "2. View Expenses \n",
      "3. Track Budget \n",
      "4. Save Expenses \n",
      "5. Load Expenses \n",
      "6. Exit 2\n"
     ]
    },
    {
     "name": "stdout",
     "output_type": "stream",
     "text": [
      "These are your expenses: \n",
      "{'Date': '2025-01-01', 'Category': 'Food', 'Amount': 1000, 'Description': 'Family Dinner'}\n",
      "{'Date': '2025-01-02', 'Category': 'Bills', 'Amount': 10000, 'Description': 'Rent'}\n",
      "{'Date': '2025-01-03', 'Category': 'Food', 'Amount': 500, 'Description': 'Blinkit'}\n",
      "Please choose any one of the below options to proceed: \n"
     ]
    },
    {
     "name": "stdin",
     "output_type": "stream",
     "text": [
      "1. Add Expense \n",
      "2. View Expenses \n",
      "3. Track Budget \n",
      "4. Save Expenses \n",
      "5. Load Expenses \n",
      "6. Exit 3\n",
      "Enter your monthly budget:  25000\n"
     ]
    },
    {
     "name": "stdout",
     "output_type": "stream",
     "text": [
      "Your remaining budget for the month: Rs. 13500\n",
      "Please choose any one of the below options to proceed: \n"
     ]
    },
    {
     "name": "stdin",
     "output_type": "stream",
     "text": [
      "1. Add Expense \n",
      "2. View Expenses \n",
      "3. Track Budget \n",
      "4. Save Expenses \n",
      "5. Load Expenses \n",
      "6. Exit 4\n"
     ]
    },
    {
     "name": "stdout",
     "output_type": "stream",
     "text": [
      "Saving your monthly expenses to CSV file.\n",
      "Please find your expenses in Expenses_recorded.xlsx\n",
      "Please choose any one of the below options to proceed: \n"
     ]
    },
    {
     "name": "stdin",
     "output_type": "stream",
     "text": [
      "1. Add Expense \n",
      "2. View Expenses \n",
      "3. Track Budget \n",
      "4. Save Expenses \n",
      "5. Load Expenses \n",
      "6. Exit 5\n",
      "Please enter a file name to save your expense data from an excel file:  Expenses.xlsx\n"
     ]
    },
    {
     "name": "stdout",
     "output_type": "stream",
     "text": [
      "Ignoring this record for incomplete details\n",
      "{'Date': '2025-01-11', 'Category': 'Bills', 'Amount': 'r45', 'Description': ''}\n",
      "Ignoring this record for incomplete details\n",
      "{'Date': '2025-01-11', 'Category': '', 'Amount': 550, 'Description': ''}\n",
      "Added your excel expenses data, here is your entire list of expenses: \n",
      "These are your expenses: \n",
      "{'Date': '2025-01-01', 'Category': 'Food', 'Amount': 1000, 'Description': 'Family Dinner'}\n",
      "{'Date': '2025-01-02', 'Category': 'Bills', 'Amount': 10000, 'Description': 'Rent'}\n",
      "{'Date': '2025-01-03', 'Category': 'Food', 'Amount': 500, 'Description': 'Blinkit'}\n",
      "{'Date': '2025-01-06', 'Category': 'Food', 'Amount': 500, 'Description': 'Blinkit'}\n",
      "{'Date': '2025-01-07', 'Category': 'Entertainment', 'Amount': 500, 'Description': 'Netflix'}\n",
      "{'Date': '2025-01-07', 'Category': 'Entertainment', 'Amount': 119, 'Description': 'Spotify'}\n",
      "{'Date': '2025-01-10', 'Category': 'Transport', 'Amount': 150, 'Description': 'Netflix'}\n",
      "{'Date': '2025-01-10', 'Category': 'Bills', 'Amount': 700, 'Description': 'Electricity'}\n",
      "{'Date': '2025-01-11', 'Category': 'Bills', 'Amount': 800, 'Description': 'Water'}\n",
      "Please choose any one of the below options to proceed: \n"
     ]
    },
    {
     "name": "stdin",
     "output_type": "stream",
     "text": [
      "1. Add Expense \n",
      "2. View Expenses \n",
      "3. Track Budget \n",
      "4. Save Expenses \n",
      "5. Load Expenses \n",
      "6. Exit 3\n"
     ]
    },
    {
     "name": "stdout",
     "output_type": "stream",
     "text": [
      "Your remaining budget for the month: Rs. 10731\n",
      "Please choose any one of the below options to proceed: \n"
     ]
    },
    {
     "name": "stdin",
     "output_type": "stream",
     "text": [
      "1. Add Expense \n",
      "2. View Expenses \n",
      "3. Track Budget \n",
      "4. Save Expenses \n",
      "5. Load Expenses \n",
      "6. Exit 1\n",
      "Enter the date in YYYY-MM-DD format 2025-01-20\n",
      "Enter the category:  Essentials\n",
      "Enter the expense amount:  5000\n",
      "Enter a one-line description of the expense:  \n"
     ]
    },
    {
     "name": "stdout",
     "output_type": "stream",
     "text": [
      "Invalid expense, please fill all the details\n"
     ]
    },
    {
     "name": "stdin",
     "output_type": "stream",
     "text": [
      "Enter the date in YYYY-MM-DD format 2025-01-20\n",
      "Enter the category:  \n",
      "Enter the expense amount:  5000\n",
      "Enter a one-line description of the expense:  \n"
     ]
    },
    {
     "name": "stdout",
     "output_type": "stream",
     "text": [
      "Invalid expense, please fill all the details\n"
     ]
    },
    {
     "name": "stdin",
     "output_type": "stream",
     "text": [
      "Enter the date in YYYY-MM-DD format 2025-01-20\n",
      "Enter the category:  Essentials\n",
      "Enter the expense amount:  5000Rs\n"
     ]
    },
    {
     "name": "stdout",
     "output_type": "stream",
     "text": [
      "Please enter a valid number for the amount.\n"
     ]
    },
    {
     "name": "stdin",
     "output_type": "stream",
     "text": [
      "Enter the expense amount:  Rs 5000\n"
     ]
    },
    {
     "name": "stdout",
     "output_type": "stream",
     "text": [
      "Please enter a valid number for the amount.\n"
     ]
    },
    {
     "name": "stdin",
     "output_type": "stream",
     "text": [
      "Enter the expense amount:  5000\n",
      "Enter a one-line description of the expense:  Clothing\n"
     ]
    },
    {
     "name": "stdout",
     "output_type": "stream",
     "text": [
      "Please choose any one of the below options to proceed: \n"
     ]
    },
    {
     "name": "stdin",
     "output_type": "stream",
     "text": [
      "1. Add Expense \n",
      "2. View Expenses \n",
      "3. Track Budget \n",
      "4. Save Expenses \n",
      "5. Load Expenses \n",
      "6. Exit 3\n"
     ]
    },
    {
     "name": "stdout",
     "output_type": "stream",
     "text": [
      "Your remaining budget for the month: Rs. 5731\n",
      "Please choose any one of the below options to proceed: \n"
     ]
    },
    {
     "name": "stdin",
     "output_type": "stream",
     "text": [
      "1. Add Expense \n",
      "2. View Expenses \n",
      "3. Track Budget \n",
      "4. Save Expenses \n",
      "5. Load Expenses \n",
      "6. Exit 1\n",
      "Enter the date in YYYY-MM-DD format 2025-01-29\n",
      "Enter the category:  Investment\n",
      "Enter the expense amount:  5700\n",
      "Enter a one-line description of the expense:  Mutual funds\n"
     ]
    },
    {
     "name": "stdout",
     "output_type": "stream",
     "text": [
      "Please choose any one of the below options to proceed: \n"
     ]
    },
    {
     "name": "stdin",
     "output_type": "stream",
     "text": [
      "1. Add Expense \n",
      "2. View Expenses \n",
      "3. Track Budget \n",
      "4. Save Expenses \n",
      "5. Load Expenses \n",
      "6. Exit 2\n"
     ]
    },
    {
     "name": "stdout",
     "output_type": "stream",
     "text": [
      "These are your expenses: \n",
      "{'Date': '2025-01-01', 'Category': 'Food', 'Amount': 1000, 'Description': 'Family Dinner'}\n",
      "{'Date': '2025-01-02', 'Category': 'Bills', 'Amount': 10000, 'Description': 'Rent'}\n",
      "{'Date': '2025-01-03', 'Category': 'Food', 'Amount': 500, 'Description': 'Blinkit'}\n",
      "{'Date': '2025-01-06', 'Category': 'Food', 'Amount': 500, 'Description': 'Blinkit'}\n",
      "{'Date': '2025-01-07', 'Category': 'Entertainment', 'Amount': 500, 'Description': 'Netflix'}\n",
      "{'Date': '2025-01-07', 'Category': 'Entertainment', 'Amount': 119, 'Description': 'Spotify'}\n",
      "{'Date': '2025-01-10', 'Category': 'Transport', 'Amount': 150, 'Description': 'Netflix'}\n",
      "{'Date': '2025-01-10', 'Category': 'Bills', 'Amount': 700, 'Description': 'Electricity'}\n",
      "{'Date': '2025-01-11', 'Category': 'Bills', 'Amount': 800, 'Description': 'Water'}\n",
      "{'Date': '2025-01-20', 'Category': 'Essentials', 'Amount': 5000, 'Description': 'Clothing'}\n",
      "{'Date': '2025-01-29', 'Category': 'Investment', 'Amount': 5700, 'Description': 'Mutual funds'}\n",
      "Please choose any one of the below options to proceed: \n"
     ]
    },
    {
     "name": "stdin",
     "output_type": "stream",
     "text": [
      "1. Add Expense \n",
      "2. View Expenses \n",
      "3. Track Budget \n",
      "4. Save Expenses \n",
      "5. Load Expenses \n",
      "6. Exit 1\n",
      "Enter the date in YYYY-MM-DD format 2025-01-30\n",
      "Enter the category:  Food\n",
      "Enter the expense amount:  500\n",
      "Enter a one-line description of the expense:  Blinkit\n"
     ]
    },
    {
     "name": "stdout",
     "output_type": "stream",
     "text": [
      "Please choose any one of the below options to proceed: \n"
     ]
    },
    {
     "name": "stdin",
     "output_type": "stream",
     "text": [
      "1. Add Expense \n",
      "2. View Expenses \n",
      "3. Track Budget \n",
      "4. Save Expenses \n",
      "5. Load Expenses \n",
      "6. Exit 3\n"
     ]
    },
    {
     "name": "stdout",
     "output_type": "stream",
     "text": [
      "WARNING! You hav exceeded your monthly budget by: Rs. 469\n",
      "Please choose any one of the below options to proceed: \n"
     ]
    },
    {
     "name": "stdin",
     "output_type": "stream",
     "text": [
      "1. Add Expense \n",
      "2. View Expenses \n",
      "3. Track Budget \n",
      "4. Save Expenses \n",
      "5. Load Expenses \n",
      "6. Exit 6\n"
     ]
    },
    {
     "name": "stdout",
     "output_type": "stream",
     "text": [
      "Thank you! Come back Soon!\n"
     ]
    }
   ],
   "source": [
    "personal_expense_tracker_app()"
   ]
  },
  {
   "cell_type": "code",
   "execution_count": null,
   "id": "d6cb4409-a895-450b-ae90-c09712636d43",
   "metadata": {},
   "outputs": [],
   "source": []
  }
 ],
 "metadata": {
  "kernelspec": {
   "display_name": "Python 3 (ipykernel)",
   "language": "python",
   "name": "python3"
  },
  "language_info": {
   "codemirror_mode": {
    "name": "ipython",
    "version": 3
   },
   "file_extension": ".py",
   "mimetype": "text/x-python",
   "name": "python",
   "nbconvert_exporter": "python",
   "pygments_lexer": "ipython3",
   "version": "3.12.8"
  }
 },
 "nbformat": 4,
 "nbformat_minor": 5
}
